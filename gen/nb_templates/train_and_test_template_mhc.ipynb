{
 "cells": [
  {
   "cell_type": "code",
   "execution_count": null,
   "metadata": {
    "slideshow": {
     "slide_type": "-"
    }
   },
   "outputs": [],
   "source": [
    "# @IMPORT-MERGE\n",
    "import numpy as np\n",
    "import pandas as pd\n",
    "from munch import Munch\n",
    "from plaster.tools.zplots import zplots\n",
    "from plaster.run.plots import plots\n",
    "from plaster.run.plots import plots_dev as pdev\n",
    "from plaster.run.plots import plots_dev_mhc as pmhc  \n",
    "from plaster.run.run import RunResult\n",
    "from plaster.run.job import JobResult\n",
    "from plaster.tools.ipynb_helpers.displays import hd\n",
    "from plaster.tools.utils.utils import json_print, munch_abbreviation_string, np_safe_divide\n"
   ]
  },
  {
   "cell_type": "code",
   "execution_count": null,
   "metadata": {},
   "outputs": [],
   "source": [
    "# @REMOVE-FROM-TEMPLATE\n",
    "#\n",
    "z = zplots.setup()\n",
    "\n",
    "job = JobResult(\"../../../jobs_folder/mhc_a0201_257_2label_nn_rf/\")\n",
    "\n",
    "# If you are running this report by dropping it into a job folder,\n",
    "# then comment the above and uncomment this line before running the report:\n",
    "# job = JobResult(\"./\") \n"
   ]
  },
  {
   "cell_type": "markdown",
   "metadata": {},
   "source": [
    "## Optionally Edit your Proteins or PTMs of interest\n",
    "* These are typically specified when you create a plaster job\n",
    "* You needn't specify anything here unless you want to change this\n",
    "* Execute this cell to see the current setting.\n",
    "* This cell loads all PR data and may take some minutes."
   ]
  },
  {
   "cell_type": "code",
   "execution_count": null,
   "metadata": {},
   "outputs": [],
   "source": [
    "which_classifier = None  # None to use best available, or e.g. 'rf' to request specific\n",
    "\n",
    "#\n",
    "# Add entries to this list to specify proteins of interest, and optionally locations\n",
    "# of interest on those proteins.  Note that if you don't set anything here, any\n",
    "# --protein_of_interest you specified via pgen will be used instead, and any PTM\n",
    "# locations given in a --protein_csv file will be used for that protein.\n",
    "#\n",
    "proteins_locations = [\n",
    "# These are examples.  Add your own that are not commented out.\n",
    "#     ( 'P10636-8', '181;184;185;199;202;214;231;237;404' ),\n",
    "#     ( 'P02768'  , '25' ),\n",
    "#     ( 'Q13885'  , '' )\n",
    "]\n",
    "\n",
    "# You should not edit anything below this point unless you're adventurous.  :)\n",
    "#\n",
    "# TODO: much/all of this code should get moved into a python file that is called from here.\n",
    "#===========================================================================================\n",
    "\n",
    "if len(proteins_locations) > 0:    \n",
    "    job.set_pros_of_interest( protein_ids=[tup[0] for tup in proteins_locations] )\n",
    "    for poi,ptms in proteins_locations:\n",
    "        job.set_pro_ptm_locs( protein_id=poi, ptms=ptms )\n",
    "\n",
    "# If there are proteins of interest, reporting will be focused on those.\n",
    "# If those have PTM locations of interest, reporting will further focused on those.\n",
    "# The flags include_xxx_only determine which proteins/peptides are pulled into\n",
    "# the reporting -- you can override those if you want.\n",
    "#\n",
    "columns = ['pro_id','pro_ptm_locs']\n",
    "if 'abundance' in job.runs[0].prep.pros().columns:\n",
    "    columns += ['abundance']\n",
    "proteins_of_interest = job.get_pros_of_interest().drop_duplicates('pro_id')[columns]\n",
    "ptms_for_proteins = [ job.get_pro_ptm_locs(poi) for poi in proteins_of_interest['pro_id'].unique() ]\n",
    "\n",
    "include_poi_only = len(proteins_of_interest) > 0  # poi only if there are some specified\n",
    "include_ptm_only = include_poi_only and all( ptms_for_proteins ) \n",
    "\n",
    "# This section tells you what the reporting will be based on, and\n",
    "# loads precision/recall/scoring information for that domain.\n",
    "#\n",
    "if not proteins_of_interest.empty:\n",
    "    print( \"Proteins of interest:\" )\n",
    "    display( proteins_of_interest )\n",
    "    print()\n",
    "\n",
    "# Choose a classifier based on availability and user request at top of cell.\n",
    "#\n",
    "available_classifiers = job.runs[0].get_available_classifiers()\n",
    "chosen_classifier = which_classifier if which_classifier in available_classifiers else available_classifiers[0]\n",
    "print( f\"Available classifiers : {available_classifiers}\\n\")\n",
    "\n",
    "\n",
    "prs_args = Munch(\n",
    "    include_poi_only=include_poi_only,\n",
    "    include_ptm_only=include_ptm_only,\n",
    "    force_compute_prs=False,\n",
    "    classifier=chosen_classifier,\n",
    ")\n",
    "\n",
    "print( \"Loading PR information for peptides based on this:\" )\n",
    "json_print( prs_args )\n",
    "print( \"\\nTakes a minute...\")\n",
    "\n",
    "all_runs_pr = job.peps_prs_report_df(**prs_args)\n",
    "all_runs_pr_abund = job.peps_prs_report_df(**prs_args, pr_with_abundance=True)\n",
    "print( \"done.\" )"
   ]
  },
  {
   "cell_type": "markdown",
   "metadata": {},
   "source": [
    "## Edit your filters and find best runs"
   ]
  },
  {
   "cell_type": "code",
   "execution_count": null,
   "metadata": {},
   "outputs": [],
   "source": [
    "\n",
    "# Edit the filters here, then run this cell\n",
    "#\n",
    "filters = Munch(\n",
    "    allow_proline_at_2=True,       # True or False - chemistry has difficulty with peptides whose 2nd residue is P\n",
    "    classifier=chosen_classifier,  # Edit which_classifier in the cell above\n",
    "    exclude_runs=[],               # [] or List of runs to exclude, e.g. ['gluc_ph4_c_k_de_y_9880']   \n",
    "    include_runs=[],               # [] or List of runs to consider, e.g. ['gluc_ph4_c_k_de_y_9880']\n",
    "    min_recall=0.005,              # floating point number between 0 and 1\n",
    "    n_best_runs=1,                 # int >= 1 - for each pep, retain the top n runs for \"best pr\"\n",
    "    peptide_subset=[],             # None, [], or list of peptides, e.g. ['AIIEYMPLL', 'AALPNVYEV'], or [253,256]\n",
    "    plot_n_peps=15,                # int >=0 - top n peptides will have PR curves plotted.\n",
    "    plot_n_runs=10,                # int >= 1 - plot top n runs yielding most \"best pr\" peptides\n",
    "    unique_peps=True,              # Only consider peptides with unique fluorosequences in the run\n",
    ")\n",
    "\n",
    "\n",
    "pmhc.print_titles( filters )\n",
    "best_pr = job.get_best_precision_runs_for_peptides( all_runs_pr, filters )\n",
    "run_info = pdev._run_iz_count_pep_iz( best_pr )\n",
    "\n",
    "pmhc.plot_best_runs_peptide_yield( best_pr, run_info, filters, _zplots_context=z )\n",
    "\n",
    "with z():\n",
    "    pmhc.plot_best_runs_peptide_observability( job, best_pr, run_info, all_runs_pr, filters, pr_axes=True, _size=700, _zplots_context=z )\n",
    "\n",
    "with z(_cols=2,_size=500):    \n",
    "    pmhc.plot_best_runs_scatter( best_pr, run_info, filters, _zplots_context=z )\n",
    "    pmhc.plot_best_runs_pr( best_pr, all_runs_pr, run_info, filters, _zplots_context=z )\n",
    "pmhc.show_best_runs_df( best_pr, filters, save_csv=True )\n"
   ]
  },
  {
   "cell_type": "markdown",
   "metadata": {},
   "source": [
    "# Runs that produced at least one best-precision-at-recall"
   ]
  },
  {
   "cell_type": "code",
   "execution_count": null,
   "metadata": {},
   "outputs": [],
   "source": [
    "\n",
    "#\n",
    "# Execute this cell to get a standard report on each run that produced at least one\n",
    "# best precision-recall for a peptide.\n",
    "#\n",
    "# Or call run_report with your run_i of interest.\n",
    "#\n",
    "def run_report( run_i ):\n",
    "    run = job.runs[run_i]\n",
    "    hd('h1','_________________________________________________________________')\n",
    "    plots.standard_run_report( run, classifier=filters.classifier )\n",
    "\n",
    "    hd('h3', f'Top 50 best precisions at min_recall={filters.min_recall} ({filters.classifier})')\n",
    "    df = pdev.peps_prec_at_min_recall_df( all_runs_pr[all_runs_pr.run_i==run_i], min_recall=filters.min_recall)\n",
    "    df = df.sort_values(by=['prec','recall'],ascending=[False,False])\n",
    "    display( df.head(50) ) \n",
    "    print()\n",
    "    \n",
    "    hd('h2', f\"Confusion Matrix, with & without score threshold (best precision pep_i)\")\n",
    "    row = best_pr[best_pr.run_i==run_i].sort_values(by=['prec','recall'],ascending=[False,False]).iloc[0]\n",
    "    pdev.plot_confusion_matrix_compare( job.runs[run_i],row.pep_i,row.score, classifier=filters.classifier )\n",
    "\n",
    "        \n",
    "\n",
    "# Set to True to get a standard run report on each run that produced a \"best pr\"\n",
    "if False:\n",
    "    for run_i in run_info.run_iz:\n",
    "        run_report( run_i )\n",
    " \n",
    "\n",
    "#\n",
    "# Or get a report on a specific run_i\n",
    "# run_info.run_iz is a list of run_i sorted by best->worst based on filter\n",
    "# best = produces most peptides with \"best pr\" of all runs\n",
    "#\n",
    "if True:\n",
    "    run_i = run_info.run_iz[0]\n",
    "    run_report( run_i )\n",
    "\n"
   ]
  },
  {
   "cell_type": "markdown",
   "metadata": {},
   "source": [
    "# Explore fluorosequences"
   ]
  },
  {
   "cell_type": "code",
   "execution_count": null,
   "metadata": {},
   "outputs": [],
   "source": [
    "#\n",
    "# To explore details for a given fluorosequence:\n",
    "#\n",
    "# Edit the flu and run you want to explore & set to True\n",
    "\n",
    "if True:\n",
    "    flu = '......0.... ;0,0'\n",
    "    run_i = run_info.run_iz[0]\n",
    "    peps_prs_df = all_runs_pr[(all_runs_pr.run_i==run_i)&(all_runs_pr.flustr==flu)]\n",
    "    pdev.plot_flu_info( job.runs[run_i], flu, peps_prs_df=peps_prs_df, min_recall=filters.min_recall, classifier=filters.classifier )\n",
    "\n"
   ]
  },
  {
   "cell_type": "markdown",
   "metadata": {},
   "source": [
    "# runs_pr_falses.csv for selected runs"
   ]
  },
  {
   "cell_type": "code",
   "execution_count": null,
   "metadata": {},
   "outputs": [],
   "source": [
    "# @REMOVE-FROM-TEMPLATE\n",
    "PGEN_report_precisions = (0.9,)\n",
    "\n"
   ]
  },
  {
   "cell_type": "code",
   "execution_count": null,
   "metadata": {},
   "outputs": [],
   "source": [
    "#==========================================================================================\n",
    "# Edit your desired parameters here\n",
    "#==========================================================================================\n",
    "precisions = PGEN_report_precisions  # see above cell, or cell at top of notebook\n",
    "n_falses = 1\n",
    "protein_of_interest_only = False  \n",
    "\n",
    "# This controls the ordering of the columns in the csv\n",
    "cols = ['run_i', 'run_name', 'pro_i', 'pro_id', 'pep_i', 'pep_start', 'pep_stop', 'at_prec', 'recall_at_prec', 'score_at_prec', 'ptms', 'P2', 'seqstr', 'seqlen', 'flustr', 'flu_pros', 'false_i', 'false_type', 'false_pro_i', 'false_pep_i','false_flustr', 'false_weight']\n",
    "\n",
    "# This controls the default sorting\n",
    "sort = ['run_i','pro_i','pep_start', 'at_prec', 'recall_at_prec', 'pep_i', 'false_weight' ]\n",
    "ascend = [True,True,True,False,False,True,False]\n",
    "\n",
    "#==========================================================================================\n",
    "\n",
    "def pr_falses_for_best_runs(_run_info, prec, n_falses, protein_of_interest_only, classifier):\n",
    "    df_list = []\n",
    "    for run_i in _run_info.run_iz:\n",
    "        run = job.runs[run_i]\n",
    "        bag = run.test_call_bag( classifier=classifier )\n",
    "        df = bag.false_rates_all_peps__ptm_info(prec, n_falses, protein_of_interest_only)\n",
    "        df[\"run_i\"] = run_i\n",
    "        df[\"run_name\"] = run.manifest.run_name\n",
    "        df_list += [df]\n",
    "    return pd.concat(df_list).reset_index(drop=True)\n",
    "\n",
    "pep_false_df = pd.concat([\n",
    "    pr_falses_for_best_runs(run_info, prec, n_falses, protein_of_interest_only=protein_of_interest_only, classifier=filters.classifier)\n",
    "    for prec in precisions\n",
    "]).sort_values(by=sort,ascending=ascend).reset_index()[cols]\n",
    "\n",
    "if True:\n",
    "    hd('h3','peptides with non-zero recall at precision thresholds (avail as pep_false_df)')\n",
    "    \n",
    "    filename = f\"./runs_pr_falses__{'_'.join(map(str,precisions))}__{munch_abbreviation_string(filters)}.csv\"\n",
    "    pep_false_df.to_csv(filename,index=False,float_format=\"%g\")\n",
    "    print( f\"Wrote full pep_false_df to: {filename}\")\n",
    "    \n",
    "    display(pep_false_df[pep_false_df.recall_at_prec>0])\n"
   ]
  },
  {
   "cell_type": "code",
   "execution_count": null,
   "metadata": {},
   "outputs": [],
   "source": []
  }
 ],
 "metadata": {
  "kernelspec": {
   "display_name": "Python 3",
   "language": "python",
   "name": "python3"
  },
  "language_info": {
   "codemirror_mode": {
    "name": "ipython",
    "version": 3
   },
   "file_extension": ".py",
   "mimetype": "text/x-python",
   "name": "python",
   "nbconvert_exporter": "python",
   "pygments_lexer": "ipython3",
   "version": "3.8.2"
  }
 },
 "nbformat": 4,
 "nbformat_minor": 2
}
