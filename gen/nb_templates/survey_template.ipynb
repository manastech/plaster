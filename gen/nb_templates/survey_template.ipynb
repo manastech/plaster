{
 "cells": [
  {
   "cell_type": "code",
   "execution_count": null,
   "metadata": {
    "slideshow": {
     "slide_type": "-"
    }
   },
   "outputs": [],
   "source": [
    "# @IMPORT-MERGE\n",
    "import numpy as np\n",
    "import pandas as pd\n",
    "from munch import Munch\n",
    "from plaster.tools.zplots import zplots\n",
    "from plaster.run.plots import plots\n",
    "from plaster.run.plots import plots_dev as pdev\n",
    "from plaster.run.plots import plots_dev_pro as ppro\n",
    "from plaster.run.plots import plots_dev_ptm as pptm\n",
    "from plaster.run.run import RunResult\n",
    "from plaster.run.job import JobResult,MultiJobResult\n",
    "from plaster.tools.ipynb_helpers.displays import hd\n",
    "from plaster.tools.log.log import error, debug\n",
    "from plaster.tools.utils.utils import json_print,np_safe_divide,munch_abbreviation_string\n"
   ]
  },
  {
   "cell_type": "code",
   "execution_count": null,
   "metadata": {},
   "outputs": [],
   "source": [
    "# @REMOVE-FROM-TEMPLATE\n",
    "#\n",
    "z = zplots.setup()\n",
    "\n",
    "job = JobResult(\"../../../jobs_folder/yoda_small_multi_2__survey/\")\n",
    "\n",
    "# If you are running this report by dropping it into a job folder,\n",
    "# then comment the above and uncomment this line before running:\n",
    "# job = JobResult(\"./\") \n"
   ]
  },
  {
   "cell_type": "markdown",
   "metadata": {},
   "source": [
    "## Optionally change proteins or PTMs of interest"
   ]
  },
  {
   "cell_type": "code",
   "execution_count": null,
   "metadata": {},
   "outputs": [],
   "source": [
    "# You typically do not need to edit this cell, just execute it. \n",
    "\n",
    "# Your job will have defined proteins-of-interest (POI) as well as \n",
    "# any PTMs for proteins in the job.  You can however set this here,\n",
    "# and it will affect how the survey decides which protease/label-schemes\n",
    "# are \"best\".  With POI and PTMs set, whether from the original job definition\n",
    "# or in this cell, you can further *reduce* this domain with pro_subset and\n",
    "# ptm_subset filters in the next cell.\n",
    "\n",
    "# job.set_pros_of_interest( protein_ids=[ 'P10636-8', 'P2798'] )  # can be empty list to set none\n",
    "\n",
    "# job.set_pro_ptm_locs( protein_id='P10636-8', ptms='181;182;185') # can be empty string or ;-delimited list.\n",
    "# job.get_pro_ptm_locs( protein_id='P10636-8' ) # to see the current setting\n",
    "\n",
    "# Here we'll print the current proteins of interest - this will include\n",
    "# any PTMs that are set on them.\n",
    "\n",
    "print( \"Proteins of Interest\")\n",
    "poi_df = job.get_pros_of_interest().drop( ['run_i','run_name'],axis='columns').drop_duplicates('pro_id')\n",
    "display(poi_df)\n"
   ]
  },
  {
   "cell_type": "markdown",
   "metadata": {},
   "source": [
    "## Edit Filters and Find Best Runs"
   ]
  },
  {
   "cell_type": "code",
   "execution_count": null,
   "metadata": {},
   "outputs": [],
   "source": [
    "def best_runs_for_objective(filters,title_extra=''):\n",
    "    best_runs = job.get_nn_stats_df( filters=filters )\n",
    "\n",
    "    hd('h1',f'Best runs for objective: {filters.objective} {title_extra}')\n",
    "    hd('h3', 'Filters' )\n",
    "    json_print(filters)\n",
    "    print()\n",
    "    \n",
    "    pd.set_option('display.max_columns',None)\n",
    "    display(best_runs)\n",
    "    return best_runs\n",
    "\n",
    "\n",
    "# Edit the filters here, then run this cell\n",
    "#\n",
    "filters = Munch(\n",
    "    allow_proline_at_2=True,        # True or False\n",
    "    exclude_runs=[],                # [] or List of runs to exclude, e.g. ['gluc_ph4_c_k_de_y_9880']   \n",
    "    include_runs=[],                # [] or List of runs to consider, e.g. ['gluc_ph4_c_k_de_y_9880']\n",
    "    max_dyes_per_ch=5,              # None, or integer\n",
    "    max_pep_len=50,                 # None, or integer\n",
    "    max_ptms_per_pep=None,          # None, or integer\n",
    "    multi_peptide_metric='dist_min',# None, 'dist_min', or 'dist_avg'\n",
    "    n_best_schemes=10,              # integer - display top n best protease/label schemes\n",
    "    n_peps_per_scheme=1,            # integer - display top n peps per best scheme found\n",
    "    objective='protein_id',         # 'protein_id', 'coverage', or 'ptms'\n",
    "    poi_only=True,                  # limit to 'proteins of interest'?\n",
    "    pro_subset=[],                  # Reduce domain of proteins to consider, e.g. ['Q14997']\n",
    "    ptm_subset=[],                  # Reduce domain of ptms to consider, e.g. [181,184]\n",
    "    verbose=0,                      # set to 1 for various info on filtering (dev)\n",
    ")\n",
    "\n",
    "best_runs = best_runs_for_objective(filters)\n",
    "\n",
    "# The following line saves your best_runs dataframe to a CSV named for the filter settings.\n",
    "# Uncomment to save your csv.\n",
    "\n",
    "# user = ''\n",
    "# best_runs.to_csv(f'./survey_best_runs_{user}_{munch_abbreviation_string(filters)}.csv',index=False,float_format=\"%g\")\n"
   ]
  },
  {
   "cell_type": "code",
   "execution_count": null,
   "metadata": {},
   "outputs": [],
   "source": [
    "# The following is an example of how you might choose to look at best runs for protein\n",
    "# identification for two proteins, first individually to see which runs are the very \n",
    "# best for each protein individually, and then together to see which runs produce the\n",
    "# best combined result via composite nearest-neighbor distance for their best peptides.\n",
    "# This example uses the yoda_small_multi_2__survey job (or similar) which seeks to identify\n",
    "# two proteins in the mixture.\n",
    "\n",
    "if False:\n",
    "    filters.poi_only = True     # only look at proteins of interest, which we'll further limit below\n",
    "    filters.multi_peptide_metric = 'dist_min' # it's ok if this is on even when doing 1 protein\n",
    "\n",
    "    filters.pro_subset = ['Q14997']  # find best runs for this protein\n",
    "    best_runs = best_runs_for_objective(filters, 'Q14997' )\n",
    "\n",
    "    filters.pro_subset = ['P40306'] # find best runs for this protein\n",
    "    best_runs = best_runs_for_objective(filters, 'P40306')\n",
    "\n",
    "    filters.pro_subset = []  # remove specific subset, so we'll be looking at all proteins of interest (those two)\n",
    "    best_runs = best_runs_for_objective(filters, 'Both together')\n",
    "\n",
    "    filters.multi_peptide_metric=None  # Now just get best peptides from *any* POI to see which proteins need help\n",
    "    filters.n_best_schemes=50\n",
    "    best_runs = best_runs_for_objective(filters, 'Best peps either protein')\n",
    "\n"
   ]
  },
  {
   "cell_type": "code",
   "execution_count": null,
   "metadata": {},
   "outputs": [],
   "source": [
    "# The following is an example of how you might choose to look at best runs for ptm\n",
    "# identification for a handful of PTM locations - first by individual location and\n",
    "# then together.  It depends on what question you are asking.  Do you want to find \n",
    "# the best individual runs per PTM location (like the train_and_test_template_ptm\n",
    "# will illustrate for you), or do you want to find runs that, while probably not as\n",
    "# optimal for any given location, will give you some measure of the \"best\" result\n",
    "# for all locations combined?\n",
    "\n",
    "if False:\n",
    "    filters.ptm_subset = [181]  # find best runs for this ptm\n",
    "    best_runs = best_runs_for_objective(filters, 'PTM 181' )\n",
    "\n",
    "    filters.ptm_subset = [199] # find best runs for this ptm\n",
    "    best_runs = best_runs_for_objective(filters, 'PTM 199')\n",
    "\n",
    "    filters.ptm_subset = [181,199]  # find best runs if you want one run to see both PTMs\n",
    "    best_runs = best_runs_for_objective(filters, 'Both together')\n",
    "\n",
    "    filters.multi_peptide_metric=None  # Now just get best PTM peptides across runs to see which PTMs need help\n",
    "    filters.n_best_schemes=50\n",
    "    best_runs = best_runs_for_objective(filters, 'Best runs either PTM')\n"
   ]
  },
  {
   "cell_type": "code",
   "execution_count": null,
   "metadata": {},
   "outputs": [],
   "source": []
  }
 ],
 "metadata": {
  "kernelspec": {
   "display_name": "Python 3",
   "language": "python",
   "name": "python3"
  },
  "language_info": {
   "codemirror_mode": {
    "name": "ipython",
    "version": 3
   },
   "file_extension": ".py",
   "mimetype": "text/x-python",
   "name": "python",
   "nbconvert_exporter": "python",
   "pygments_lexer": "ipython3",
   "version": "3.8.2"
  }
 },
 "nbformat": 4,
 "nbformat_minor": 2
}
