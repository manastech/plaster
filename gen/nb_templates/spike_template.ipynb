{
 "cells": [
  {
   "cell_type": "code",
   "execution_count": null,
   "metadata": {
    "slideshow": {
     "slide_type": "-"
    }
   },
   "outputs": [],
   "source": [
    "# @IMPORT-MERGE\n",
    "from plaster.run.run import RunLoader\n",
    "from plaster.run import notebook_tools as tools\n",
    "from munch import Munch\n",
    "from IPython.display import HTML,Markdown\n",
    "from plaster.tools.zplots import zplots\n",
    "z = zplots.setup()"
   ]
  },
  {
   "cell_type": "code",
   "execution_count": null,
   "metadata": {},
   "outputs": [],
   "source": [
    "# @REMOVE-FROM-TEMPLATE\n",
    "from plumbum import local\n",
    "print( local.cwd )\n",
    "\n",
    "run_dirs = tools.find_run_folders( \"mhc_A5_classify\" )\n",
    "to_load = tools.Run.default_load + [ \"sigproc\", \"classify_sigproc\", \"filtering\" ]\n",
    "notebook_runs = [ tools.RunLoader(_dir,to_load) for _dir in run_dirs ]\n"
   ]
  },
  {
   "cell_type": "markdown",
   "metadata": {},
   "source": [
    "# Signal Classification Across Runs "
   ]
  },
  {
   "cell_type": "code",
   "execution_count": null,
   "metadata": {},
   "outputs": [],
   "source": [
    "display(Markdown(f'* __dark blue__ needle\\n* __light blue__ some impact from needle predicted by simulation\\n* __grey__ no impact predicted by simulation'))\n",
    "display(Markdown(f'#### `vertex size ~ -log(fraction of calls for this class, this run)`'))\n",
    "tools.abund_abund_runs( list(notebook_runs.values()), percent_mode=False )\n",
    "tools.abund_abund_runs( list(notebook_runs.values()), percent_mode=True )\n",
    "tools.abund_abund_runs( list(notebook_runs.values()), percent_mode=True, highlight_impacted=False )\n",
    "tools.abund_abund_runs( list(notebook_runs.values()), percent_mode=True, omit_needle=True )"
   ]
  }
 ],
 "metadata": {
  "kernelspec": {
   "display_name": "Python 3",
   "language": "python",
   "name": "python3"
  },
  "language_info": {
   "codemirror_mode": {
    "name": "ipython",
    "version": 3
   },
   "file_extension": ".py",
   "mimetype": "text/x-python",
   "name": "python",
   "nbconvert_exporter": "python",
   "pygments_lexer": "ipython3",
   "version": "3.6.8"
  }
 },
 "nbformat": 4,
 "nbformat_minor": 2
}
