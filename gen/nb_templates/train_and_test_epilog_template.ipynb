{
 "cells": [
  {
   "cell_type": "code",
   "execution_count": null,
   "metadata": {
    "slideshow": {
     "slide_type": "-"
    }
   },
   "outputs": [],
   "source": [
    "# @IMPORT-MERGE\n",
    "import numpy as np\n",
    "import pandas as pd\n",
    "from plaster.run.plots import plots\n",
    "from plaster.run.run import RunResult\n",
    "from plaster.run.job import JobResult\n",
    "from plaster.tools.ipynb_helpers.displays import hd\n",
    "from plaster.tools.log.log import error, debug\n",
    "from plaster.tools.zplots import zplots\n"
   ]
  },
  {
   "cell_type": "code",
   "execution_count": null,
   "metadata": {},
   "outputs": [],
   "source": [
    "# @REMOVE-FROM-TEMPLATE\n",
    "from plumbum import local\n",
    "print(local.cwd)\n",
    "\n",
    "job = JobResult(\"../../../jobs_folder/tau8_local_bg03_merge/\")\n",
    "z = zplots.setup()\n"
   ]
  },
  {
   "cell_type": "markdown",
   "metadata": {},
   "source": [
    "# Precision-Recall - All Runs Combined"
   ]
  },
  {
   "cell_type": "code",
   "execution_count": null,
   "metadata": {},
   "outputs": [],
   "source": [
    "plots.plot_pr_for_job( job, _size=600 )"
   ]
  },
  {
   "cell_type": "markdown",
   "metadata": {},
   "source": [
    "# Dataframe summary of runs + CSV export"
   ]
  },
  {
   "cell_type": "code",
   "execution_count": null,
   "metadata": {},
   "outputs": [],
   "source": [
    "# @REMOVE-FROM-TEMPLATE\n",
    "PGEN_report_precisions = (0.9,0.8,0.7)\n",
    "pepstrs = run.prep.pepstrs()\n",
    "display(pepstrs)\n",
    "len(''.join(pepstrs.seqstr.values))"
   ]
  },
  {
   "cell_type": "code",
   "execution_count": null,
   "metadata": {},
   "outputs": [],
   "source": [
    "# This is to control the ordering of the columns in the csv\n",
    "cols = ['run_i', 'run_name', 'pro_i', 'pro_id', 'pep_i', 'pep_start', 'pep_stop', 'at_prec', 'recall_at_prec', 'score_at_prec', 'ptms', 'P2', 'seqstr', 'seqlen', 'flustr', 'flu_pros', 'false_i', 'false_type', 'false_pro_i', 'false_pep_i','false_flustr', 'false_weight']\n",
    "\n",
    "# This is to control the sorting\n",
    "sort = ['run_i','pro_i','pep_start', 'at_prec', 'recall_at_prec', 'pep_i', 'false_weight' ]\n",
    "ascend = [True,True,True,False,False,True,False]\n",
    "\n",
    "proteins_of_interest = job.get_pros_of_interest().drop_duplicates('pro_id')\n",
    "include_poi_only = len(proteins_of_interest) > 0  # poi only if there are some specified\n",
    "\n",
    "precisions = PGEN_report_precisions\n",
    "n_falses = 2\n",
    "pep_false_df = pd.concat([\n",
    "    job.all_dfs(lambda run:run.test_rf_call_bag().false_rates_all_peps__ptm_info(prec, n_falses, protein_of_interest_only=include_poi_only))\n",
    "    for prec in precisions\n",
    "]).sort_values(by=sort,ascending=ascend).reset_index()[cols]\n",
    "\n",
    "display(pep_false_df)\n",
    "pep_false_df.to_csv('./runs_pr_with_falses.csv',index=False,float_format=\"%g\")\n",
    "\n"
   ]
  }
 ],
 "metadata": {
  "kernelspec": {
   "display_name": "Python 3",
   "language": "python",
   "name": "python3"
  },
  "language_info": {
   "codemirror_mode": {
    "name": "ipython",
    "version": 3
   },
   "file_extension": ".py",
   "mimetype": "text/x-python",
   "name": "python",
   "nbconvert_exporter": "python",
   "pygments_lexer": "ipython3",
   "version": "3.8.2"
  }
 },
 "nbformat": 4,
 "nbformat_minor": 2
}
