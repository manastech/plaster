{
 "cells": [
  {
   "cell_type": "code",
   "execution_count": null,
   "metadata": {},
   "outputs": [],
   "source": [
    "# @REMOVE-FROM-TEMPLATE\n",
    "from plaster.tools.ipynb_helpers.displays import restart_kernel; restart_kernel()"
   ]
  },
  {
   "cell_type": "code",
   "execution_count": null,
   "metadata": {},
   "outputs": [],
   "source": [
    "# @IMPORT-MERGE\n",
    "import numpy as np\n",
    "import pandas as pd\n",
    "import itertools\n",
    "from plaster.tools.log.log import error, debug\n",
    "from plaster.run.job import JobResult\n",
    "from plaster.run.run import RunResult\n",
    "from plaster.run.sigproc_v2 import sigproc_v2_worker as worker\n",
    "from plaster.tools.image.coord import WH, XY, roi_shift, clip2d\n",
    "from plaster.tools.zplots import zplots\n",
    "from plaster.tools.schema import check\n",
    "from plaster.tools.image import imops\n",
    "from plaster.tools.zap import zap\n",
    "from plaster.tools.utils import utils\n",
    "from plaster.tools.calibration.calibration import Calibration\n",
    "from plaster.run.sigproc_v2.sigproc_v2_params import SigprocV2Params\n",
    "z = zplots.setup()"
   ]
  },
  {
   "cell_type": "code",
   "execution_count": null,
   "metadata": {},
   "outputs": [],
   "source": [
    "# @REMOVE-FROM-TEMPLATE\n",
    "from plumbum import local\n",
    "job = JobResult(\"/app/jobs_folder/sigproc_v2_compare/\")\n",
    "run = job.calib_val0"
   ]
  },
  {
   "cell_type": "code",
   "execution_count": null,
   "metadata": {},
   "outputs": [],
   "source": [
    "subject_id = run.ims_import.tsv_data.scope_name.lower()\n",
    "calib_path = f\"/app/{subject_id}.calib\"\n",
    "print(f\"Subject Id is: {subject_id}\\ncalib_path is: {calib_path}\")"
   ]
  },
  {
   "cell_type": "code",
   "execution_count": null,
   "metadata": {},
   "outputs": [],
   "source": [
    "# @REMOVE-FROM-TEMPLATE\n",
    "calib_path = f\"/app/val0.calib\""
   ]
  },
  {
   "cell_type": "code",
   "execution_count": null,
   "metadata": {},
   "outputs": [],
   "source": [
    "channel_i = 0\n",
    "divs = 5"
   ]
  },
  {
   "cell_type": "code",
   "execution_count": null,
   "metadata": {},
   "outputs": [],
   "source": [
    "for ch_i in range(run.ims_import.n_channels):\n",
    "    qdf = run.ims_import.qualities()\n",
    "    quality = qdf[qdf.channel_i == ch_i].sort_values([\"quality\"])\n",
    "    z.hist(quality.quality, _size_x=800, _size_y=150, f_title=f\"Quality distribution channel {ch_i}\")\n",
    "    \n",
    "    row_iz = utils.ispace(0, len(qdf), 3)\n",
    "    ims = np.array([\n",
    "        run.ims_import.ims[row.field_i, row.channel_i, row.cycle_i]    \n",
    "        for row in qdf.iloc[row_iz].itertuples()\n",
    "    ])\n",
    "    \n",
    "    with z(_cols=3, _cspan=np.percentile(ims, (30, 99))):\n",
    "        names = (\"worst\", \"median\", \"best\")\n",
    "        for im, name in zip(ims, names):\n",
    "            z.im(im, f_title=f\"Channel: {ch_i} {name}\")"
   ]
  },
  {
   "cell_type": "code",
   "execution_count": null,
   "metadata": {},
   "outputs": [],
   "source": [
    "# Visualize the best quality fields to sanity check that the masking is good\n",
    "qdf = run.ims_import.qualities()\n",
    "quality = (\n",
    "    qdf[qdf.channel_i == channel_i]\n",
    "    .sort_values([\"field_i\", \"cycle_i\"])[\"quality\"]\n",
    "    .values\n",
    "    .reshape((run.ims_import.n_fields, run.ims_import.n_cycles))\n",
    ")\n",
    "best_field_iz = np.argsort(np.sum(quality, axis=1))[::-1][0:6].tolist()\n",
    "worst_field_iz = np.argsort(np.sum(quality, axis=1))[::][0:6].tolist()\n",
    "\n",
    "cy_ims = run.ims_import.ims[best_field_iz[0], channel_i]\n",
    "masked_cy_ims = imops.stack_map(cy_ims, worker.mask_anomalies_im)\n",
    "aln_offsets, aln_scores = worker.align(masked_cy_ims)\n",
    "chcy_ims = np.array([masked_cy_ims])\n",
    "chcy_ims = worker.composite_with_alignment_offsets_chcy_ims(chcy_ims, aln_offsets)\n",
    "\n",
    "divs = 5\n",
    "mask_radius = 10\n",
    "with z(_cols=4, _size=250):\n",
    "    reg_bg_mean = []\n",
    "    for cy_i in range(run.ims_import.n_cycles):\n",
    "        stats, fg_im, bg_im = worker.regional_bg_fg_stats(\n",
    "            worker.mask_anomalies_im(run.ims_import.ims[best_field_iz[0], channel_i, cy_i]),\n",
    "            kernel_width=1.5,\n",
    "            divs=divs,\n",
    "            mask_radius=mask_radius,\n",
    "            return_ims=True\n",
    "        )\n",
    "        reg_bg_mean += [stats[:, :, 0]]\n",
    "        z.im(fg_im)\n",
    "        z.im(bg_im)\n",
    "    reg_bg_mean = np.array(reg_bg_mean)\n",
    "z.cols(reg_bg_mean[:, divs//2, divs//2], f_x_axis_label=\"cycle\", f_y_axis_label=\"mean center background\")"
   ]
  },
  {
   "cell_type": "code",
   "execution_count": null,
   "metadata": {},
   "outputs": [],
   "source": [
    "calib = worker.calibrate(run.ims_import, progress=lambda i, j: print(i, j))\n",
    "calib.set_subject_id(subject_id)"
   ]
  },
  {
   "cell_type": "code",
   "execution_count": null,
   "metadata": {},
   "outputs": [],
   "source": [
    "# chcy_regional_psfs.shape\n",
    "# n_channels = chcy_regional_psfs.shape[0]\n",
    "# for ch_i in range(n_channels):\n",
    "#     ims = np.mean(chcy_regional_psfs[ch_i], axis=0)\n",
    "#     calib.add({f\"regional_psf.instrument_channel[{ch_i}].{subject_id}\": ims.tolist()})"
   ]
  },
  {
   "cell_type": "code",
   "execution_count": null,
   "metadata": {},
   "outputs": [],
   "source": [
    "_ = calib.save(calib_path)"
   ]
  },
  {
   "cell_type": "code",
   "execution_count": null,
   "metadata": {},
   "outputs": [],
   "source": []
  }
 ],
 "metadata": {
  "kernelspec": {
   "display_name": "Python 3",
   "language": "python",
   "name": "python3"
  },
  "language_info": {
   "codemirror_mode": {
    "name": "ipython",
    "version": 3
   },
   "file_extension": ".py",
   "mimetype": "text/x-python",
   "name": "python",
   "nbconvert_exporter": "python",
   "pygments_lexer": "ipython3",
   "version": "3.8.2"
  }
 },
 "nbformat": 4,
 "nbformat_minor": 4
}
