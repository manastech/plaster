{
 "cells": [
  {
   "cell_type": "code",
   "execution_count": null,
   "metadata": {
    "slideshow": {
     "slide_type": "-"
    }
   },
   "outputs": [],
   "source": [
    "# @IMPORT-MERGE\n",
    "import numpy as np\n",
    "import pandas as pd\n",
    "from plaster.run.plots import plots\n",
    "from plaster.run.run import RunResult\n",
    "from plaster.run.job import JobResult\n",
    "from plaster.tools.ipynb_helpers.displays import hd\n",
    "from plaster.tools.log.log import error, debug\n",
    "from plaster.tools.zplots import zplots\n",
    "z = zplots.setup()"
   ]
  },
  {
   "cell_type": "code",
   "execution_count": null,
   "metadata": {},
   "outputs": [],
   "source": [
    "# @REMOVE-FROM-TEMPLATE\n",
    "from plumbum import local\n",
    "print( f\"Running template from {local.cwd}\")\n",
    "\n",
    "# load a run here to debug or edit the template\n",
    "\n",
    "# Via a job...\n",
    "\n",
    "# job = JobResult(\"../../jobs_folder/yoda_small_multi_2/\")\n",
    "# #job = JobResult(\"../../jobs_folder/mhc_A257_2label_3/\")\n",
    "# run = job.runs[0]\n",
    "\n",
    "# job.set_pros_of_interest(['ALDIMIPMV', 'AMFGKLMTI', 'ALMADMVYV', 'ALADFLPVM', 'ALVSTIIMV'])\n",
    "\n",
    "\n",
    "\n",
    "# Or directly from a run...\n",
    "\n",
    "run = RunResult(\"../../jobs_folder/yoda_small_multi_2/gluc_ph8_de_k_m_a88f/\")\n",
    "\n",
    "#run = RunResult(\"../../jobs_folder/yoda_small_multi_2/trypsin_de_k_m_a88f/\")\n",
    "\n",
    "\n",
    "\n"
   ]
  },
  {
   "cell_type": "code",
   "execution_count": null,
   "metadata": {},
   "outputs": [],
   "source": [
    "plots.standard_run_report(run,display_run_title=False)"
   ]
  }
 ],
 "metadata": {
  "kernelspec": {
   "display_name": "Python 3",
   "language": "python",
   "name": "python3"
  },
  "language_info": {
   "codemirror_mode": {
    "name": "ipython",
    "version": 3
   },
   "file_extension": ".py",
   "mimetype": "text/x-python",
   "name": "python",
   "nbconvert_exporter": "python",
   "pygments_lexer": "ipython3",
   "version": "3.8.2"
  }
 },
 "nbformat": 4,
 "nbformat_minor": 2
}
