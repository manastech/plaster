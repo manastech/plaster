{
 "cells": [
  {
   "cell_type": "code",
   "execution_count": null,
   "metadata": {},
   "outputs": [],
   "source": [
    "# @IMPORT-MERGE\n",
    "from plaster.run.run import RunResult\n",
    "from plaster.tools.ipynb_helpers.displays import md\n",
    "from plaster.run.plots import plots\n",
    "from plaster.tools.zplots import zplots\n",
    "from plaster.run.lnfit.lnfit_result import LNFitResult\n",
    "z = zplots.setup()"
   ]
  },
  {
   "cell_type": "code",
   "execution_count": null,
   "metadata": {},
   "outputs": [],
   "source": [
    "# @REMOVE-FROM-TEMPLATE\n",
    "z = zplots.setup()\n",
    "from plumbum import local\n",
    "run = RunResult(\"../../../jobs_folder/phos5_a/sigproc_0_2019_12_12_02_CTD_alk\")"
   ]
  },
  {
   "cell_type": "markdown",
   "metadata": {},
   "source": [
    "# Signal Lnfit"
   ]
  },
  {
   "cell_type": "code",
   "execution_count": null,
   "metadata": {},
   "outputs": [],
   "source": [
    "plots.text_lnfit_links(run)"
   ]
  },
  {
   "cell_type": "code",
   "execution_count": null,
   "metadata": {},
   "outputs": [],
   "source": [
    "all_lnfit_names = LNFitResult.task_names(run)\n",
    "lnfit = run[all_lnfit_names[0]]\n",
    "all_lnfit_dfs = [lnfit.lnfit_bestseq_df(name) for name in all_lnfit_names]\n",
    "for name,df in zip(all_lnfit_names,all_lnfit_dfs):\n",
    "    seqs = df.drop_duplicates(subset=['best_seq']) # look at unique seqs\n",
    "    md( f\"## Top 20 sequences for {name}\")\n",
    "    display(seqs[['best_seq','channel_i','best_seq_count']].head(20))"
   ]
  },
  {
   "cell_type": "code",
   "execution_count": null,
   "metadata": {},
   "outputs": [],
   "source": [
    "channel  = 0\n",
    "sequence = '2111000000'  # replace with your sequence of interest\n",
    "lnfit_name = None        # Set this to the name of your lnfit, otherwise all lnfits are used together.\n",
    "#lnfit_name = 'lnfit_647_threshold4000'\n",
    "plots.plot_signal_for_lnfit_sequence( run, channel, sequence,  lnfit_taskname=lnfit_name )"
   ]
  }
 ],
 "metadata": {
  "kernelspec": {
   "display_name": "Python 3",
   "language": "python",
   "name": "python3"
  },
  "language_info": {
   "codemirror_mode": {
    "name": "ipython",
    "version": 3
   },
   "file_extension": ".py",
   "mimetype": "text/x-python",
   "name": "python",
   "nbconvert_exporter": "python",
   "pygments_lexer": "ipython3",
   "version": "3.6.9"
  }
 },
 "nbformat": 4,
 "nbformat_minor": 2
}
