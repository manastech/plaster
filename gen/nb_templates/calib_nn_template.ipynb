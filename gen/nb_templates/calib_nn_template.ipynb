{
 "cells": [
  {
   "cell_type": "code",
   "execution_count": null,
   "metadata": {},
   "outputs": [],
   "source": [
    "# @IMPORT-MERGE\n",
    "import numpy as np\n",
    "from plaster.run.run import RunLoader\n",
    "from munch import Munch\n",
    "from IPython.display import HTML\n",
    "from plaster.tools.zplots import zplots\n",
    "z = zplots.setup()"
   ]
  },
  {
   "cell_type": "code",
   "execution_count": null,
   "metadata": {},
   "outputs": [],
   "source": [
    "# @REMOVE-FROM-TEMPLATE\n",
    "from plumbum import local\n",
    "run = RunLoader(\"../../../jobs_folder/one_dye_one_count/calib_gain\", to_load=[\"calib\"])"
   ]
  },
  {
   "cell_type": "markdown",
   "metadata": {},
   "source": [
    "# Calib Visualization"
   ]
  },
  {
   "cell_type": "code",
   "execution_count": null,
   "metadata": {},
   "outputs": [],
   "source": [
    "n_channels = len(run.calib.channels)\n",
    "with z.Opts(_cols=n_channels):\n",
    "    for ch in range(n_channels):\n",
    "        gain = run.calib.ch_gains[ch]\n",
    "        with z.Opts(_merge=True, f_title=f\"Gain fit channel {ch} best={gain:1.1f}\", f_x_axis_label=\"gain\", f_y_axis_label=\"fit\"):\n",
    "            fits = run.calib.ch_convergence_debugging[ch]\n",
    "            min_ = np.min(fits[:, 1])\n",
    "            max_ = np.max(fits[:, 1])\n",
    "            z.line(fits[:, 0], fits[:, 1], )\n",
    "            z.line(x=(gain, gain), y=(min_, max_), line_color=\"red\")"
   ]
  },
  {
   "cell_type": "code",
   "execution_count": null,
   "metadata": {},
   "outputs": [],
   "source": []
  }
 ],
 "metadata": {
  "kernelspec": {
   "display_name": "Python 3",
   "language": "python",
   "name": "python3"
  },
  "language_info": {
   "codemirror_mode": {
    "name": "ipython",
    "version": 3
   },
   "file_extension": ".py",
   "mimetype": "text/x-python",
   "name": "python",
   "nbconvert_exporter": "python",
   "pygments_lexer": "ipython3",
   "version": "3.6.8"
  }
 },
 "nbformat": 4,
 "nbformat_minor": 2
}
